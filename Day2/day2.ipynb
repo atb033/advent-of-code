{
 "cells": [
  {
   "cell_type": "code",
   "execution_count": 5,
   "metadata": {},
   "outputs": [],
   "source": [
    "import numpy as np\n",
    "import pandas as pd\n",
    "\n",
    "df = pd.read_csv(\"input.csv\",\" \")"
   ]
  },
  {
   "cell_type": "code",
   "execution_count": 17,
   "metadata": {},
   "outputs": [
    {
     "name": "stdout",
     "output_type": "stream",
     "text": [
      "1728414\n"
     ]
    }
   ],
   "source": [
    "# Q1\n",
    "def find_sum(type):\n",
    "    return df[df[\"direction\"]==type][\"magnitude\"].sum()\n",
    "\n",
    "dX = (find_sum(\"forward\") )\n",
    "dY = (find_sum(\"down\")-find_sum(\"up\"))\n",
    "print(dX * dY)\n"
   ]
  },
  {
   "cell_type": "code",
   "execution_count": 21,
   "metadata": {},
   "outputs": [
    {
     "name": "stdout",
     "output_type": "stream",
     "text": [
      "1765720035\n"
     ]
    }
   ],
   "source": [
    "# Q2\n",
    "x = 0\n",
    "y = 0\n",
    "aim = 0\n",
    "for index, row in df.iterrows():\n",
    "    dir = row[\"direction\"]\n",
    "    mag = row[\"magnitude\"]\n",
    "    if (dir == \"down\"):\n",
    "        aim += mag\n",
    "    elif(dir == \"up\"):\n",
    "        aim -= mag\n",
    "    else:\n",
    "        x += mag\n",
    "        y += aim*mag\n",
    "\n",
    "print(x*y)"
   ]
  },
  {
   "cell_type": "code",
   "execution_count": null,
   "metadata": {},
   "outputs": [],
   "source": []
  }
 ],
 "metadata": {
  "interpreter": {
   "hash": "aee8b7b246df8f9039afb4144a1f6fd8d2ca17a180786b69acc140d282b71a49"
  },
  "kernelspec": {
   "display_name": "Python 3.9.9 64-bit",
   "language": "python",
   "name": "python3"
  },
  "language_info": {
   "codemirror_mode": {
    "name": "ipython",
    "version": 3
   },
   "file_extension": ".py",
   "mimetype": "text/x-python",
   "name": "python",
   "nbconvert_exporter": "python",
   "pygments_lexer": "ipython3",
   "version": "3.9.9"
  },
  "orig_nbformat": 4
 },
 "nbformat": 4,
 "nbformat_minor": 2
}
